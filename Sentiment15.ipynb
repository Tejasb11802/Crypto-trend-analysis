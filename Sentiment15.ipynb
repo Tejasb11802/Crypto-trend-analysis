{
 "cells": [
  {
   "cell_type": "code",
   "execution_count": 31,
   "id": "4a25b1e5-4cc1-46a5-9ac5-57bd5f15f941",
   "metadata": {},
   "outputs": [],
   "source": [
    "import os\n",
    "import warnings\n",
    "\n",
    "# Disable symlink warning\n",
    "os.environ[\"HF_HUB_DISABLE_SYMLINKS_WARNING\"] = \"1\"\n",
    "\n",
    "# Optional: disable all warnings from HuggingFace\n",
    "warnings.filterwarnings(\"ignore\")\n",
    "\n",
    "# Suppress IPython widget display errors\n",
    "from IPython.core.interactiveshell import InteractiveShell\n",
    "InteractiveShell.ast_node_interactivity = \"last_expr\"\n"
   ]
  },
  {
   "cell_type": "code",
   "execution_count": 33,
   "id": "8869d5ee-6e7c-44f9-8fa0-a14f28892d05",
   "metadata": {},
   "outputs": [
    {
     "name": "stdout",
     "output_type": "stream",
     "text": [
      "Requirement already satisfied: mwclient in d:\\new folder\\lib\\site-packages (0.11.0)\n",
      "Requirement already satisfied: requests-oauthlib in d:\\new folder\\lib\\site-packages (from mwclient) (2.0.0)\n",
      "Requirement already satisfied: oauthlib>=3.0.0 in d:\\new folder\\lib\\site-packages (from requests-oauthlib->mwclient) (3.2.2)\n",
      "Requirement already satisfied: requests>=2.0.0 in d:\\new folder\\lib\\site-packages (from requests-oauthlib->mwclient) (2.32.2)\n",
      "Requirement already satisfied: charset-normalizer<4,>=2 in d:\\new folder\\lib\\site-packages (from requests>=2.0.0->requests-oauthlib->mwclient) (2.0.4)\n",
      "Requirement already satisfied: idna<4,>=2.5 in d:\\new folder\\lib\\site-packages (from requests>=2.0.0->requests-oauthlib->mwclient) (3.7)\n",
      "Requirement already satisfied: urllib3<3,>=1.21.1 in d:\\new folder\\lib\\site-packages (from requests>=2.0.0->requests-oauthlib->mwclient) (2.2.2)\n",
      "Requirement already satisfied: certifi>=2017.4.17 in d:\\new folder\\lib\\site-packages (from requests>=2.0.0->requests-oauthlib->mwclient) (2024.7.4)\n",
      "Note: you may need to restart the kernel to use updated packages.\n"
     ]
    }
   ],
   "source": [
    "pip install mwclient\n"
   ]
  },
  {
   "cell_type": "code",
   "execution_count": 35,
   "id": "6b5409b8-b2c6-4c43-a2eb-2255f0c5f870",
   "metadata": {},
   "outputs": [],
   "source": [
    "import mwclient\n",
    "import time\n",
    "\n",
    "site = mwclient.Site('en.wikipedia.org')\n",
    "page = site.pages['Bitcoin']"
   ]
  },
  {
   "cell_type": "code",
   "execution_count": 37,
   "id": "bb982a94-fe81-4f62-a8cb-98e6deb0977b",
   "metadata": {},
   "outputs": [],
   "source": [
    "revs = list(page.revisions())"
   ]
  },
  {
   "cell_type": "code",
   "execution_count": 38,
   "id": "d0d7aa8e-4034-4758-b80e-f47877acd378",
   "metadata": {},
   "outputs": [
    {
     "data": {
      "text/plain": [
       "OrderedDict([('revid', 1294743166),\n",
       "             ('parentid', 1292212004),\n",
       "             ('minor', ''),\n",
       "             ('user', 'OAbot'),\n",
       "             ('timestamp',\n",
       "              time.struct_time(tm_year=2025, tm_mon=6, tm_mday=9, tm_hour=14, tm_min=57, tm_sec=12, tm_wday=0, tm_yday=160, tm_isdst=-1)),\n",
       "             ('comment',\n",
       "              '[[Wikipedia:OABOT|Open access bot]]: doi updated in citation with #oabot.')])"
      ]
     },
     "execution_count": 38,
     "metadata": {},
     "output_type": "execute_result"
    }
   ],
   "source": [
    "revs[0]"
   ]
  },
  {
   "cell_type": "code",
   "execution_count": 39,
   "id": "45c5f547-c085-49dd-8e20-ba1e17a0ebf6",
   "metadata": {},
   "outputs": [],
   "source": [
    "revs = sorted(revs, key=lambda rev: rev[\"timestamp\"]) "
   ]
  },
  {
   "cell_type": "code",
   "execution_count": 40,
   "id": "88cdb974-481e-4988-a42c-fef6a8345df9",
   "metadata": {},
   "outputs": [
    {
     "data": {
      "text/plain": [
       "OrderedDict([('revid', 275832581),\n",
       "             ('parentid', 0),\n",
       "             ('user', 'Pratyeka'),\n",
       "             ('timestamp',\n",
       "              time.struct_time(tm_year=2009, tm_mon=3, tm_mday=8, tm_hour=16, tm_min=41, tm_sec=7, tm_wday=6, tm_yday=67, tm_isdst=-1)),\n",
       "             ('comment', 'creation (stub)')])"
      ]
     },
     "execution_count": 40,
     "metadata": {},
     "output_type": "execute_result"
    }
   ],
   "source": [
    "revs[0]"
   ]
  },
  {
   "cell_type": "code",
   "execution_count": 41,
   "id": "6f825bbf-e4d1-4ff3-87b0-31b2f40c8a99",
   "metadata": {},
   "outputs": [
    {
     "name": "stdout",
     "output_type": "stream",
     "text": [
      "Requirement already satisfied: transformers in d:\\new folder\\lib\\site-packages (4.52.4)\n",
      "Requirement already satisfied: filelock in d:\\new folder\\lib\\site-packages (from transformers) (3.13.1)\n",
      "Requirement already satisfied: huggingface-hub<1.0,>=0.30.0 in d:\\new folder\\lib\\site-packages (from transformers) (0.33.0)\n",
      "Requirement already satisfied: numpy>=1.17 in d:\\new folder\\lib\\site-packages (from transformers) (1.26.4)\n",
      "Requirement already satisfied: packaging>=20.0 in d:\\new folder\\lib\\site-packages (from transformers) (23.2)\n",
      "Requirement already satisfied: pyyaml>=5.1 in d:\\new folder\\lib\\site-packages (from transformers) (6.0.1)\n",
      "Requirement already satisfied: regex!=2019.12.17 in d:\\new folder\\lib\\site-packages (from transformers) (2023.10.3)\n",
      "Requirement already satisfied: requests in d:\\new folder\\lib\\site-packages (from transformers) (2.32.2)\n",
      "Requirement already satisfied: tokenizers<0.22,>=0.21 in d:\\new folder\\lib\\site-packages (from transformers) (0.21.1)\n",
      "Requirement already satisfied: safetensors>=0.4.3 in d:\\new folder\\lib\\site-packages (from transformers) (0.5.3)\n",
      "Requirement already satisfied: tqdm>=4.27 in d:\\new folder\\lib\\site-packages (from transformers) (4.66.4)\n",
      "Requirement already satisfied: fsspec>=2023.5.0 in d:\\new folder\\lib\\site-packages (from huggingface-hub<1.0,>=0.30.0->transformers) (2024.3.1)\n",
      "Requirement already satisfied: typing-extensions>=3.7.4.3 in d:\\new folder\\lib\\site-packages (from huggingface-hub<1.0,>=0.30.0->transformers) (4.14.0)\n",
      "Requirement already satisfied: colorama in d:\\new folder\\lib\\site-packages (from tqdm>=4.27->transformers) (0.4.6)\n",
      "Requirement already satisfied: charset-normalizer<4,>=2 in d:\\new folder\\lib\\site-packages (from requests->transformers) (2.0.4)\n",
      "Requirement already satisfied: idna<4,>=2.5 in d:\\new folder\\lib\\site-packages (from requests->transformers) (3.7)\n",
      "Requirement already satisfied: urllib3<3,>=1.21.1 in d:\\new folder\\lib\\site-packages (from requests->transformers) (2.2.2)\n",
      "Requirement already satisfied: certifi>=2017.4.17 in d:\\new folder\\lib\\site-packages (from requests->transformers) (2024.7.4)\n",
      "Note: you may need to restart the kernel to use updated packages.\n"
     ]
    }
   ],
   "source": [
    "pip install transformers"
   ]
  },
  {
   "cell_type": "code",
   "execution_count": 42,
   "id": "437e4f41-2341-4772-b3e2-c3c94d2965e5",
   "metadata": {},
   "outputs": [
    {
     "name": "stdout",
     "output_type": "stream",
     "text": [
      "Requirement already satisfied: transformers in d:\\new folder\\lib\\site-packages (4.52.4)\n",
      "Requirement already satisfied: torch in d:\\new folder\\lib\\site-packages (2.7.1)\n",
      "Requirement already satisfied: filelock in d:\\new folder\\lib\\site-packages (from transformers) (3.13.1)\n",
      "Requirement already satisfied: huggingface-hub<1.0,>=0.30.0 in d:\\new folder\\lib\\site-packages (from transformers) (0.33.0)\n",
      "Requirement already satisfied: numpy>=1.17 in d:\\new folder\\lib\\site-packages (from transformers) (1.26.4)\n",
      "Requirement already satisfied: packaging>=20.0 in d:\\new folder\\lib\\site-packages (from transformers) (23.2)\n",
      "Requirement already satisfied: pyyaml>=5.1 in d:\\new folder\\lib\\site-packages (from transformers) (6.0.1)\n",
      "Requirement already satisfied: regex!=2019.12.17 in d:\\new folder\\lib\\site-packages (from transformers) (2023.10.3)\n",
      "Requirement already satisfied: requests in d:\\new folder\\lib\\site-packages (from transformers) (2.32.2)\n",
      "Requirement already satisfied: tokenizers<0.22,>=0.21 in d:\\new folder\\lib\\site-packages (from transformers) (0.21.1)\n",
      "Requirement already satisfied: safetensors>=0.4.3 in d:\\new folder\\lib\\site-packages (from transformers) (0.5.3)\n",
      "Requirement already satisfied: tqdm>=4.27 in d:\\new folder\\lib\\site-packages (from transformers) (4.66.4)\n",
      "Requirement already satisfied: typing-extensions>=4.10.0 in d:\\new folder\\lib\\site-packages (from torch) (4.14.0)\n",
      "Requirement already satisfied: sympy>=1.13.3 in d:\\new folder\\lib\\site-packages (from torch) (1.14.0)\n",
      "Requirement already satisfied: networkx in d:\\new folder\\lib\\site-packages (from torch) (3.2.1)\n",
      "Requirement already satisfied: jinja2 in d:\\new folder\\lib\\site-packages (from torch) (3.1.4)\n",
      "Requirement already satisfied: fsspec in d:\\new folder\\lib\\site-packages (from torch) (2024.3.1)\n",
      "Requirement already satisfied: setuptools in d:\\new folder\\lib\\site-packages (from torch) (69.5.1)\n",
      "Requirement already satisfied: mpmath<1.4,>=1.1.0 in d:\\new folder\\lib\\site-packages (from sympy>=1.13.3->torch) (1.3.0)\n",
      "Requirement already satisfied: colorama in d:\\new folder\\lib\\site-packages (from tqdm>=4.27->transformers) (0.4.6)\n",
      "Requirement already satisfied: MarkupSafe>=2.0 in d:\\new folder\\lib\\site-packages (from jinja2->torch) (2.1.3)\n",
      "Requirement already satisfied: charset-normalizer<4,>=2 in d:\\new folder\\lib\\site-packages (from requests->transformers) (2.0.4)\n",
      "Requirement already satisfied: idna<4,>=2.5 in d:\\new folder\\lib\\site-packages (from requests->transformers) (3.7)\n",
      "Requirement already satisfied: urllib3<3,>=1.21.1 in d:\\new folder\\lib\\site-packages (from requests->transformers) (2.2.2)\n",
      "Requirement already satisfied: certifi>=2017.4.17 in d:\\new folder\\lib\\site-packages (from requests->transformers) (2024.7.4)\n",
      "Note: you may need to restart the kernel to use updated packages.\n"
     ]
    }
   ],
   "source": [
    "pip install transformers torch"
   ]
  },
  {
   "cell_type": "code",
   "execution_count": 43,
   "id": "d7b14aa0-6399-4153-96ae-09d3c124beeb",
   "metadata": {},
   "outputs": [
    {
     "name": "stdout",
     "output_type": "stream",
     "text": [
      "Requirement already satisfied: torch in d:\\new folder\\lib\\site-packages (2.7.1)\n",
      "Requirement already satisfied: filelock in d:\\new folder\\lib\\site-packages (from torch) (3.13.1)\n",
      "Requirement already satisfied: typing-extensions>=4.10.0 in d:\\new folder\\lib\\site-packages (from torch) (4.14.0)\n",
      "Requirement already satisfied: sympy>=1.13.3 in d:\\new folder\\lib\\site-packages (from torch) (1.14.0)\n",
      "Requirement already satisfied: networkx in d:\\new folder\\lib\\site-packages (from torch) (3.2.1)\n",
      "Requirement already satisfied: jinja2 in d:\\new folder\\lib\\site-packages (from torch) (3.1.4)\n",
      "Requirement already satisfied: fsspec in d:\\new folder\\lib\\site-packages (from torch) (2024.3.1)\n",
      "Requirement already satisfied: setuptools in d:\\new folder\\lib\\site-packages (from torch) (69.5.1)\n",
      "Requirement already satisfied: mpmath<1.4,>=1.1.0 in d:\\new folder\\lib\\site-packages (from sympy>=1.13.3->torch) (1.3.0)\n",
      "Requirement already satisfied: MarkupSafe>=2.0 in d:\\new folder\\lib\\site-packages (from jinja2->torch) (2.1.3)\n"
     ]
    }
   ],
   "source": [
    "!pip install torch"
   ]
  },
  {
   "cell_type": "code",
   "execution_count": 44,
   "id": "a2dc8b02-005a-4713-a829-946731714646",
   "metadata": {},
   "outputs": [
    {
     "name": "stdout",
     "output_type": "stream",
     "text": [
      "Name: torch\n",
      "Version: 2.7.1\n",
      "Summary: Tensors and Dynamic neural networks in Python with strong GPU acceleration\n",
      "Home-page: https://pytorch.org/\n",
      "Author: PyTorch Team\n",
      "Author-email: packages@pytorch.org\n",
      "License: BSD-3-Clause\n",
      "Location: D:\\New folder\\Lib\\site-packages\n",
      "Requires: filelock, fsspec, jinja2, networkx, setuptools, sympy, typing-extensions\n",
      "Required-by: \n",
      "Note: you may need to restart the kernel to use updated packages.\n"
     ]
    }
   ],
   "source": [
    "pip show torch\n"
   ]
  },
  {
   "cell_type": "code",
   "execution_count": 45,
   "id": "09edc900-cac1-4447-98e7-c206e312feed",
   "metadata": {},
   "outputs": [
    {
     "name": "stdout",
     "output_type": "stream",
     "text": [
      "D:\\New folder\\python.exe\n"
     ]
    }
   ],
   "source": [
    "import sys\n",
    "print(sys.executable)"
   ]
  },
  {
   "cell_type": "code",
   "execution_count": 46,
   "id": "5f6a678a-2645-4f7b-a4d3-28659c7ccd99",
   "metadata": {},
   "outputs": [
    {
     "name": "stdout",
     "output_type": "stream",
     "text": [
      "2.7.1+cpu\n"
     ]
    }
   ],
   "source": [
    "import torch\n",
    "print(torch.__version__)"
   ]
  },
  {
   "cell_type": "code",
   "execution_count": 47,
   "id": "e541c35e-aefc-4d42-8094-82ad25bd42b8",
   "metadata": {},
   "outputs": [
    {
     "name": "stderr",
     "output_type": "stream",
     "text": [
      "Device set to use cpu\n"
     ]
    },
    {
     "name": "stdout",
     "output_type": "stream",
     "text": [
      "Sentiment: POSITIVE | Confidence: 99.99%\n",
      "Sentiment: NEGATIVE | Confidence: 99.97%\n"
     ]
    }
   ],
   "source": [
    "from transformers import pipeline\n",
    "\n",
    "# Create the sentiment analysis pipeline\n",
    "sentiment_pipeline = pipeline(\"sentiment-analysis\", model=\"distilbert-base-uncased-finetuned-sst-2-english\", framework=\"pt\")\n",
    "\n",
    "# Define a function to return readable sentiment\n",
    "def find_sentiment(text):\n",
    "    result = sentiment_pipeline(text[:250])[0]\n",
    "    label = result[\"label\"]\n",
    "    score = result[\"score\"]\n",
    "    \n",
    "    # Format output\n",
    "    sentiment = f\"Sentiment: {label} | Confidence: {score * 100:.2f}%\"\n",
    "    return sentiment\n",
    "\n",
    "# Example test\n",
    "print(find_sentiment(\"This is absolutely amazing!\"))\n",
    "print(find_sentiment(\"This is the worst thing ever.\"))\n"
   ]
  },
  {
   "cell_type": "code",
   "execution_count": 59,
   "id": "819eae36-2669-4348-a993-9a4cf6ab8e9a",
   "metadata": {},
   "outputs": [],
   "source": [
    "edits = {}\n",
    "\n",
    "for rev in revs:        \n",
    "    date = time.strftime(\"%Y-%m-%d\", rev[\"timestamp\"])\n",
    "    if date not in edits:\n",
    "        edits[date] = dict(sentiments=list(), edit_count=0)\n",
    "    \n",
    "    edits[date][\"edit_count\"] += 1\n",
    "    \n",
    "    comment = rev.get(\"comment\", \"\")\n",
    "    edits[date][\"sentiments\"].append(find_sentiment(comment))"
   ]
  },
  {
   "cell_type": "code",
   "execution_count": 73,
   "id": "1fff8ac5-403c-4518-bc5c-be9051396b05",
   "metadata": {},
   "outputs": [],
   "source": [
    "from statistics import mean\n",
    "\n",
    "def extract_score(sentiment_string):\n",
    "    try:\n",
    "        # Example: 'Sentiment: NEGATIVE | Confidence: 99.06%'\n",
    "        if \"Confidence:\" in sentiment_string:\n",
    "            label_part, conf_part = sentiment_string.split(\"|\")\n",
    "            score = float(conf_part.strip().replace(\"Confidence:\", \"\").replace(\"%\", \"\"))\n",
    "            if \"NEGATIVE\" in label_part:\n",
    "                score *= -1\n",
    "            return score\n",
    "    except Exception:\n",
    "        return None\n",
    "    return None\n",
    "\n",
    "for key in edits:\n",
    "    raw_sentiments = edits[key].get(\"sentiments\", [])\n",
    "    cleaned_scores = [extract_score(s) for s in raw_sentiments if isinstance(s, str)]\n",
    "    cleaned_scores = [s for s in cleaned_scores if s is not None]\n",
    "\n",
    "    if cleaned_scores:\n",
    "        edits[key][\"sentiment\"] = mean(cleaned_scores)\n",
    "        edits[key][\"neg_sentiment\"] = len([s for s in cleaned_scores if s < 0]) / len(cleaned_scores)\n",
    "    else:\n",
    "        edits[key][\"sentiment\"] = 0\n",
    "        edits[key][\"neg_sentiment\"] = 0\n",
    "\n",
    "    edits[key].pop(\"sentiments\", None)  \n"
   ]
  },
  {
   "cell_type": "code",
   "execution_count": 75,
   "id": "bb05866f-3390-432a-b70e-8dc12f2a4b64",
   "metadata": {},
   "outputs": [],
   "source": [
    "import pandas as pd\n",
    "\n",
    "edits_df = pd.DataFrame.from_dict(edits, orient=\"index\")"
   ]
  },
  {
   "cell_type": "code",
   "execution_count": 77,
   "id": "a8dfedc5-54c3-4066-867e-b41f72955c72",
   "metadata": {},
   "outputs": [
    {
     "data": {
      "text/html": [
       "<div>\n",
       "<style scoped>\n",
       "    .dataframe tbody tr th:only-of-type {\n",
       "        vertical-align: middle;\n",
       "    }\n",
       "\n",
       "    .dataframe tbody tr th {\n",
       "        vertical-align: top;\n",
       "    }\n",
       "\n",
       "    .dataframe thead th {\n",
       "        text-align: right;\n",
       "    }\n",
       "</style>\n",
       "<table border=\"1\" class=\"dataframe\">\n",
       "  <thead>\n",
       "    <tr style=\"text-align: right;\">\n",
       "      <th></th>\n",
       "      <th>edit_count</th>\n",
       "      <th>sentiment</th>\n",
       "      <th>neg_sentiment</th>\n",
       "    </tr>\n",
       "  </thead>\n",
       "  <tbody>\n",
       "    <tr>\n",
       "      <th>2009-03-08</th>\n",
       "      <td>4</td>\n",
       "      <td>0</td>\n",
       "      <td>0</td>\n",
       "    </tr>\n",
       "    <tr>\n",
       "      <th>2009-08-05</th>\n",
       "      <td>1</td>\n",
       "      <td>0</td>\n",
       "      <td>0</td>\n",
       "    </tr>\n",
       "    <tr>\n",
       "      <th>2009-08-06</th>\n",
       "      <td>2</td>\n",
       "      <td>0</td>\n",
       "      <td>0</td>\n",
       "    </tr>\n",
       "    <tr>\n",
       "      <th>2009-08-14</th>\n",
       "      <td>1</td>\n",
       "      <td>0</td>\n",
       "      <td>0</td>\n",
       "    </tr>\n",
       "    <tr>\n",
       "      <th>2009-10-13</th>\n",
       "      <td>2</td>\n",
       "      <td>0</td>\n",
       "      <td>0</td>\n",
       "    </tr>\n",
       "    <tr>\n",
       "      <th>...</th>\n",
       "      <td>...</td>\n",
       "      <td>...</td>\n",
       "      <td>...</td>\n",
       "    </tr>\n",
       "    <tr>\n",
       "      <th>2025-05-20</th>\n",
       "      <td>1</td>\n",
       "      <td>0</td>\n",
       "      <td>0</td>\n",
       "    </tr>\n",
       "    <tr>\n",
       "      <th>2025-05-22</th>\n",
       "      <td>1</td>\n",
       "      <td>0</td>\n",
       "      <td>0</td>\n",
       "    </tr>\n",
       "    <tr>\n",
       "      <th>2025-05-24</th>\n",
       "      <td>1</td>\n",
       "      <td>0</td>\n",
       "      <td>0</td>\n",
       "    </tr>\n",
       "    <tr>\n",
       "      <th>2025-05-25</th>\n",
       "      <td>6</td>\n",
       "      <td>0</td>\n",
       "      <td>0</td>\n",
       "    </tr>\n",
       "    <tr>\n",
       "      <th>2025-06-09</th>\n",
       "      <td>1</td>\n",
       "      <td>0</td>\n",
       "      <td>0</td>\n",
       "    </tr>\n",
       "  </tbody>\n",
       "</table>\n",
       "<p>2776 rows × 3 columns</p>\n",
       "</div>"
      ],
      "text/plain": [
       "            edit_count  sentiment  neg_sentiment\n",
       "2009-03-08           4          0              0\n",
       "2009-08-05           1          0              0\n",
       "2009-08-06           2          0              0\n",
       "2009-08-14           1          0              0\n",
       "2009-10-13           2          0              0\n",
       "...                ...        ...            ...\n",
       "2025-05-20           1          0              0\n",
       "2025-05-22           1          0              0\n",
       "2025-05-24           1          0              0\n",
       "2025-05-25           6          0              0\n",
       "2025-06-09           1          0              0\n",
       "\n",
       "[2776 rows x 3 columns]"
      ]
     },
     "execution_count": 77,
     "metadata": {},
     "output_type": "execute_result"
    }
   ],
   "source": [
    "edits_df"
   ]
  },
  {
   "cell_type": "code",
   "execution_count": 79,
   "id": "c9f2becc-1e37-4aaa-9fcd-250a48ef85b7",
   "metadata": {},
   "outputs": [],
   "source": [
    "edits_df.index = pd.to_datetime(edits_df.index)"
   ]
  },
  {
   "cell_type": "code",
   "execution_count": 81,
   "id": "6b3c03cd-6a88-40d5-b7ce-c4bd3059939d",
   "metadata": {},
   "outputs": [],
   "source": [
    "from datetime import datetime\n",
    "\n",
    "dates = pd.date_range(start=\"2009-03-08\",end=datetime.today())"
   ]
  },
  {
   "cell_type": "code",
   "execution_count": 83,
   "id": "138bc0b5-d7fe-4ba1-b55d-065b2c95f1bd",
   "metadata": {},
   "outputs": [],
   "source": [
    "edits_df = edits_df.reindex(dates, fill_value=0)"
   ]
  },
  {
   "cell_type": "code",
   "execution_count": 85,
   "id": "4a0538b4-8774-44a5-93e6-9f843a016f07",
   "metadata": {},
   "outputs": [
    {
     "data": {
      "text/html": [
       "<div>\n",
       "<style scoped>\n",
       "    .dataframe tbody tr th:only-of-type {\n",
       "        vertical-align: middle;\n",
       "    }\n",
       "\n",
       "    .dataframe tbody tr th {\n",
       "        vertical-align: top;\n",
       "    }\n",
       "\n",
       "    .dataframe thead th {\n",
       "        text-align: right;\n",
       "    }\n",
       "</style>\n",
       "<table border=\"1\" class=\"dataframe\">\n",
       "  <thead>\n",
       "    <tr style=\"text-align: right;\">\n",
       "      <th></th>\n",
       "      <th>edit_count</th>\n",
       "      <th>sentiment</th>\n",
       "      <th>neg_sentiment</th>\n",
       "    </tr>\n",
       "  </thead>\n",
       "  <tbody>\n",
       "    <tr>\n",
       "      <th>2009-03-08</th>\n",
       "      <td>4</td>\n",
       "      <td>0</td>\n",
       "      <td>0</td>\n",
       "    </tr>\n",
       "    <tr>\n",
       "      <th>2009-03-09</th>\n",
       "      <td>0</td>\n",
       "      <td>0</td>\n",
       "      <td>0</td>\n",
       "    </tr>\n",
       "    <tr>\n",
       "      <th>2009-03-10</th>\n",
       "      <td>0</td>\n",
       "      <td>0</td>\n",
       "      <td>0</td>\n",
       "    </tr>\n",
       "    <tr>\n",
       "      <th>2009-03-11</th>\n",
       "      <td>0</td>\n",
       "      <td>0</td>\n",
       "      <td>0</td>\n",
       "    </tr>\n",
       "    <tr>\n",
       "      <th>2009-03-12</th>\n",
       "      <td>0</td>\n",
       "      <td>0</td>\n",
       "      <td>0</td>\n",
       "    </tr>\n",
       "    <tr>\n",
       "      <th>...</th>\n",
       "      <td>...</td>\n",
       "      <td>...</td>\n",
       "      <td>...</td>\n",
       "    </tr>\n",
       "    <tr>\n",
       "      <th>2025-06-08</th>\n",
       "      <td>0</td>\n",
       "      <td>0</td>\n",
       "      <td>0</td>\n",
       "    </tr>\n",
       "    <tr>\n",
       "      <th>2025-06-09</th>\n",
       "      <td>1</td>\n",
       "      <td>0</td>\n",
       "      <td>0</td>\n",
       "    </tr>\n",
       "    <tr>\n",
       "      <th>2025-06-10</th>\n",
       "      <td>0</td>\n",
       "      <td>0</td>\n",
       "      <td>0</td>\n",
       "    </tr>\n",
       "    <tr>\n",
       "      <th>2025-06-11</th>\n",
       "      <td>0</td>\n",
       "      <td>0</td>\n",
       "      <td>0</td>\n",
       "    </tr>\n",
       "    <tr>\n",
       "      <th>2025-06-12</th>\n",
       "      <td>0</td>\n",
       "      <td>0</td>\n",
       "      <td>0</td>\n",
       "    </tr>\n",
       "  </tbody>\n",
       "</table>\n",
       "<p>5941 rows × 3 columns</p>\n",
       "</div>"
      ],
      "text/plain": [
       "            edit_count  sentiment  neg_sentiment\n",
       "2009-03-08           4          0              0\n",
       "2009-03-09           0          0              0\n",
       "2009-03-10           0          0              0\n",
       "2009-03-11           0          0              0\n",
       "2009-03-12           0          0              0\n",
       "...                ...        ...            ...\n",
       "2025-06-08           0          0              0\n",
       "2025-06-09           1          0              0\n",
       "2025-06-10           0          0              0\n",
       "2025-06-11           0          0              0\n",
       "2025-06-12           0          0              0\n",
       "\n",
       "[5941 rows x 3 columns]"
      ]
     },
     "execution_count": 85,
     "metadata": {},
     "output_type": "execute_result"
    }
   ],
   "source": [
    "edits_df"
   ]
  },
  {
   "cell_type": "code",
   "execution_count": 87,
   "id": "77f60cb5-34f8-4df8-b943-2fc106615d11",
   "metadata": {},
   "outputs": [],
   "source": [
    "rolling_edits = edits_df.rolling(30, min_periods=30).mean()"
   ]
  },
  {
   "cell_type": "code",
   "execution_count": 89,
   "id": "2e71ad1f-0445-4b9e-a424-55235905fec0",
   "metadata": {},
   "outputs": [],
   "source": [
    "rolling_edits = rolling_edits.dropna()"
   ]
  },
  {
   "cell_type": "code",
   "execution_count": 91,
   "id": "091eed3e-9f57-4d3c-84f9-9f8bbd0cc1f0",
   "metadata": {},
   "outputs": [
    {
     "data": {
      "text/html": [
       "<div>\n",
       "<style scoped>\n",
       "    .dataframe tbody tr th:only-of-type {\n",
       "        vertical-align: middle;\n",
       "    }\n",
       "\n",
       "    .dataframe tbody tr th {\n",
       "        vertical-align: top;\n",
       "    }\n",
       "\n",
       "    .dataframe thead th {\n",
       "        text-align: right;\n",
       "    }\n",
       "</style>\n",
       "<table border=\"1\" class=\"dataframe\">\n",
       "  <thead>\n",
       "    <tr style=\"text-align: right;\">\n",
       "      <th></th>\n",
       "      <th>edit_count</th>\n",
       "      <th>sentiment</th>\n",
       "      <th>neg_sentiment</th>\n",
       "    </tr>\n",
       "  </thead>\n",
       "  <tbody>\n",
       "    <tr>\n",
       "      <th>2009-04-06</th>\n",
       "      <td>0.133333</td>\n",
       "      <td>0.0</td>\n",
       "      <td>0.0</td>\n",
       "    </tr>\n",
       "    <tr>\n",
       "      <th>2009-04-07</th>\n",
       "      <td>0.000000</td>\n",
       "      <td>0.0</td>\n",
       "      <td>0.0</td>\n",
       "    </tr>\n",
       "    <tr>\n",
       "      <th>2009-04-08</th>\n",
       "      <td>0.000000</td>\n",
       "      <td>0.0</td>\n",
       "      <td>0.0</td>\n",
       "    </tr>\n",
       "    <tr>\n",
       "      <th>2009-04-09</th>\n",
       "      <td>0.000000</td>\n",
       "      <td>0.0</td>\n",
       "      <td>0.0</td>\n",
       "    </tr>\n",
       "    <tr>\n",
       "      <th>2009-04-10</th>\n",
       "      <td>0.000000</td>\n",
       "      <td>0.0</td>\n",
       "      <td>0.0</td>\n",
       "    </tr>\n",
       "    <tr>\n",
       "      <th>...</th>\n",
       "      <td>...</td>\n",
       "      <td>...</td>\n",
       "      <td>...</td>\n",
       "    </tr>\n",
       "    <tr>\n",
       "      <th>2025-06-08</th>\n",
       "      <td>0.366667</td>\n",
       "      <td>0.0</td>\n",
       "      <td>0.0</td>\n",
       "    </tr>\n",
       "    <tr>\n",
       "      <th>2025-06-09</th>\n",
       "      <td>0.400000</td>\n",
       "      <td>0.0</td>\n",
       "      <td>0.0</td>\n",
       "    </tr>\n",
       "    <tr>\n",
       "      <th>2025-06-10</th>\n",
       "      <td>0.400000</td>\n",
       "      <td>0.0</td>\n",
       "      <td>0.0</td>\n",
       "    </tr>\n",
       "    <tr>\n",
       "      <th>2025-06-11</th>\n",
       "      <td>0.400000</td>\n",
       "      <td>0.0</td>\n",
       "      <td>0.0</td>\n",
       "    </tr>\n",
       "    <tr>\n",
       "      <th>2025-06-12</th>\n",
       "      <td>0.366667</td>\n",
       "      <td>0.0</td>\n",
       "      <td>0.0</td>\n",
       "    </tr>\n",
       "  </tbody>\n",
       "</table>\n",
       "<p>5912 rows × 3 columns</p>\n",
       "</div>"
      ],
      "text/plain": [
       "            edit_count  sentiment  neg_sentiment\n",
       "2009-04-06    0.133333        0.0            0.0\n",
       "2009-04-07    0.000000        0.0            0.0\n",
       "2009-04-08    0.000000        0.0            0.0\n",
       "2009-04-09    0.000000        0.0            0.0\n",
       "2009-04-10    0.000000        0.0            0.0\n",
       "...                ...        ...            ...\n",
       "2025-06-08    0.366667        0.0            0.0\n",
       "2025-06-09    0.400000        0.0            0.0\n",
       "2025-06-10    0.400000        0.0            0.0\n",
       "2025-06-11    0.400000        0.0            0.0\n",
       "2025-06-12    0.366667        0.0            0.0\n",
       "\n",
       "[5912 rows x 3 columns]"
      ]
     },
     "execution_count": 91,
     "metadata": {},
     "output_type": "execute_result"
    }
   ],
   "source": [
    "rolling_edits"
   ]
  },
  {
   "cell_type": "code",
   "execution_count": 93,
   "id": "f1a114ec-449d-4902-9e7b-80d3ad6e61d4",
   "metadata": {},
   "outputs": [],
   "source": [
    "rolling_edits.to_csv(\"wikipedia_edits155.csv\")"
   ]
  },
  {
   "cell_type": "code",
   "execution_count": null,
   "id": "3913007a-430b-4b4e-a24f-3cb39800b6f5",
   "metadata": {},
   "outputs": [],
   "source": []
  }
 ],
 "metadata": {
  "kernelspec": {
   "display_name": "Python 3 (ipykernel)",
   "language": "python",
   "name": "python3"
  },
  "language_info": {
   "codemirror_mode": {
    "name": "ipython",
    "version": 3
   },
   "file_extension": ".py",
   "mimetype": "text/x-python",
   "name": "python",
   "nbconvert_exporter": "python",
   "pygments_lexer": "ipython3",
   "version": "3.12.4"
  }
 },
 "nbformat": 4,
 "nbformat_minor": 5
}
